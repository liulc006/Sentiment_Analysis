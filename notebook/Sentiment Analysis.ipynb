{
 "cells": [
  {
   "cell_type": "code",
   "execution_count": 1,
   "metadata": {},
   "outputs": [],
   "source": [
    "import numpy as np\n",
    "import pandas as pd"
   ]
  },
  {
   "cell_type": "code",
   "execution_count": 2,
   "metadata": {},
   "outputs": [
    {
     "name": "stdout",
     "output_type": "stream",
     "text": [
      "<class 'pandas.core.frame.DataFrame'>\n",
      "RangeIndex: 50000 entries, 0 to 49999\n",
      "Data columns (total 3 columns):\n",
      " #   Column          Non-Null Count  Dtype \n",
      "---  ------          --------------  ----- \n",
      " 0   review          50000 non-null  object\n",
      " 1   length of text  50000 non-null  int64 \n",
      " 2   sentiment       50000 non-null  object\n",
      "dtypes: int64(1), object(2)\n",
      "memory usage: 1.1+ MB\n"
     ]
    }
   ],
   "source": [
    "#Loading the dataset\n",
    "df = pd.read_csv('../data/IMDB Dataset.csv')\n",
    "df.info()"
   ]
  },
  {
   "cell_type": "code",
   "execution_count": 3,
   "metadata": {},
   "outputs": [
    {
     "data": {
      "text/plain": [
       "positive    25000\n",
       "negative    25000\n",
       "Name: sentiment, dtype: int64"
      ]
     },
     "execution_count": 3,
     "metadata": {},
     "output_type": "execute_result"
    }
   ],
   "source": [
    "#exploring categories\n",
    "df.sentiment.value_counts()"
   ]
  },
  {
   "cell_type": "code",
   "execution_count": 4,
   "metadata": {},
   "outputs": [
    {
     "data": {
      "text/plain": [
       "0    positive\n",
       "1    positive\n",
       "2    positive\n",
       "3    positive\n",
       "4    positive\n",
       "5    positive\n",
       "6    positive\n",
       "7    positive\n",
       "8    positive\n",
       "9    negative\n",
       "Name: sentiment, dtype: object"
      ]
     },
     "execution_count": 4,
     "metadata": {},
     "output_type": "execute_result"
    }
   ],
   "source": [
    "df.sentiment[:10]"
   ]
  },
  {
   "cell_type": "code",
   "execution_count": 5,
   "metadata": {},
   "outputs": [
    {
     "data": {
      "text/plain": [
       "array([1, 1, 1, 1, 1, 1, 1, 1, 1, 0])"
      ]
     },
     "execution_count": 5,
     "metadata": {},
     "output_type": "execute_result"
    }
   ],
   "source": [
    "#changing positive to 1 and negative to 0\n",
    "y = np.where(df.sentiment=='positive',1,0)\n",
    "y[:10]"
   ]
  },
  {
   "cell_type": "code",
   "execution_count": 6,
   "metadata": {},
   "outputs": [],
   "source": [
    "#split the dataset\n",
    "from sklearn.model_selection import train_test_split\n",
    "\n",
    "X_train, X_test, y_train, y_test = train_test_split(df.review ,y, test_size=0.2, stratify=y)"
   ]
  },
  {
   "cell_type": "code",
   "execution_count": 7,
   "metadata": {},
   "outputs": [],
   "source": [
    "#vectorize the dataset\n",
    "from sklearn.feature_extraction.text import TfidfVectorizer\n",
    "\n",
    "tfid = TfidfVectorizer(lowercase=True,ngram_range=(1,2), min_df=10, max_df=0.8)\n",
    "X_train_tfid = tfid.fit_transform(X_train)"
   ]
  },
  {
   "cell_type": "code",
   "execution_count": 8,
   "metadata": {},
   "outputs": [
    {
     "data": {
      "text/plain": [
       "['by jeremy',\n",
       " 'illusive',\n",
       " 'well sorry',\n",
       " 'alley cat',\n",
       " 'temptations',\n",
       " 'sense why',\n",
       " 'again since',\n",
       " 'at little',\n",
       " 'so likable',\n",
       " 'the intervening']"
      ]
     },
     "execution_count": 8,
     "metadata": {},
     "output_type": "execute_result"
    }
   ],
   "source": [
    "list(tfid.vocabulary_)[-10:]"
   ]
  },
  {
   "cell_type": "code",
   "execution_count": 9,
   "metadata": {},
   "outputs": [
    {
     "name": "stdout",
     "output_type": "stream",
     "text": [
      "Dummy Score: 0.5 +- 0.01\n",
      "LR Score: 0.9018 +- 0.00\n"
     ]
    }
   ],
   "source": [
    "#quick evaluation of model compare to dummy\n",
    "from sklearn.model_selection import cross_val_score\n",
    "from sklearn.linear_model import LogisticRegression\n",
    "from sklearn.dummy import DummyClassifier\n",
    "\n",
    "score_dummy = cross_val_score(DummyClassifier(strategy='uniform'),X_train_tfid, y_train)\n",
    "score_lr = cross_val_score(LogisticRegression(max_iter=1000), X_train_tfid, y_train)\n",
    "\n",
    "print(f'Dummy Score: {score_dummy.mean():0.1f} +- {score_dummy.std():0.2f}')\n",
    "print(f'LR Score: {score_lr.mean():0.4f} +- {score_lr.std():0.2f}')"
   ]
  },
  {
   "cell_type": "code",
   "execution_count": 10,
   "metadata": {},
   "outputs": [
    {
     "data": {
      "text/plain": [
       "0.9083"
      ]
     },
     "execution_count": 10,
     "metadata": {},
     "output_type": "execute_result"
    }
   ],
   "source": [
    "#train and test logistic regressor model\n",
    "lr = LogisticRegression(max_iter=1000)\n",
    "lr.fit(X_train_tfid,y_train)\n",
    "\n",
    "X_test_tfid = tfid.transform(X_test)\n",
    "lr.score(X_test_tfid,y_test)"
   ]
  },
  {
   "cell_type": "code",
   "execution_count": 11,
   "metadata": {},
   "outputs": [
    {
     "data": {
      "text/plain": [
       "0.9094"
      ]
     },
     "execution_count": 11,
     "metadata": {},
     "output_type": "execute_result"
    }
   ],
   "source": [
    "#Assemble pipeline with vectorizer, feature selection, logistic regression\n",
    "from sklearn.pipeline import Pipeline\n",
    "from sklearn.feature_selection import SelectFromModel\n",
    "\n",
    "lr_pipeline = Pipeline([('vect', TfidfVectorizer(lowercase=True,ngram_range=(1,2), min_df=10, max_df=0.5)),\n",
    "                        ('fs', SelectFromModel(estimator=LogisticRegression(max_iter=1000))),\n",
    "                        ('lr', LogisticRegression())\n",
    "                       ])\n",
    "\n",
    "lr_pipeline.fit(X_train, y_train)\n",
    "lr_pipeline.score(X_test, y_test)"
   ]
  },
  {
   "cell_type": "code",
   "execution_count": 12,
   "metadata": {},
   "outputs": [
    {
     "data": {
      "text/plain": [
       "\"\\nfrom sklearn.model_selection import GridSearchCV\\n\\nparams={'vect__min_df':[1,5,10,50],\\n        'vect__max_df':[0.5,0.7,0.8,0.9]\\n        }\\ngrid_lr_pipeline=GridSearchCV(lr_pipeline, params, cv=3, n_jobs=-1).fit(X_train, y_train)\\ngrid_lr_pipeline.best_params_\""
      ]
     },
     "execution_count": 12,
     "metadata": {},
     "output_type": "execute_result"
    }
   ],
   "source": [
    "'''\n",
    "from sklearn.model_selection import GridSearchCV\n",
    "\n",
    "params={'vect__min_df':[1,5,10,50],\n",
    "        'vect__max_df':[0.5,0.7,0.8,0.9]\n",
    "        }\n",
    "grid_lr_pipeline=GridSearchCV(lr_pipeline, params, cv=3, n_jobs=-1).fit(X_train, y_train)\n",
    "grid_lr_pipeline.best_params_'''"
   ]
  },
  {
   "cell_type": "code",
   "execution_count": 13,
   "metadata": {},
   "outputs": [
    {
     "name": "stdout",
     "output_type": "stream",
     "text": [
      "Training Accuracy:0.9442\n",
      "Test Accuracy:0.9094\n",
      "Confusion Matrix: [[0.9379 0.0621]\n",
      " [0.0495 0.9505]]\n"
     ]
    }
   ],
   "source": [
    "#testing the pipeline model\n",
    "from sklearn.metrics import confusion_matrix\n",
    "\n",
    "y_pred = lr_pipeline.predict(X_train)\n",
    "confusion = confusion_matrix(y_train, y_pred,normalize='true')\n",
    "print(f'Training Accuracy:{lr_pipeline.score(X_train,y_train)}')\n",
    "print(f'Test Accuracy:{lr_pipeline.score(X_test,y_test)}')\n",
    "print(f'Confusion Matrix:',confusion)"
   ]
  },
  {
   "cell_type": "code",
   "execution_count": 14,
   "metadata": {},
   "outputs": [],
   "source": [
    "#Saving and exporting model\n",
    "import pickle\n",
    "\n",
    "filename = 'sentiment_model_pipeline.sav'\n",
    "pickle.dump(lr_pipeline, open(filename, 'wb'))"
   ]
  },
  {
   "cell_type": "code",
   "execution_count": null,
   "metadata": {},
   "outputs": [],
   "source": []
  }
 ],
 "metadata": {
  "kernelspec": {
   "display_name": "Python 3",
   "language": "python",
   "name": "python3"
  },
  "language_info": {
   "codemirror_mode": {
    "name": "ipython",
    "version": 3
   },
   "file_extension": ".py",
   "mimetype": "text/x-python",
   "name": "python",
   "nbconvert_exporter": "python",
   "pygments_lexer": "ipython3",
   "version": "3.7.4"
  }
 },
 "nbformat": 4,
 "nbformat_minor": 4
}
